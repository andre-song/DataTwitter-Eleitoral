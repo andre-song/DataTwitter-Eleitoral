{
  "nbformat": 4,
  "nbformat_minor": 0,
  "metadata": {
    "colab": {
      "name": "Etapa 4 - Análise de sentimentos.ipynb",
      "provenance": [],
      "mount_file_id": "1Zt4B0KszXRmU1NEcZfcoZTJggqrY9tSE",
      "authorship_tag": "ABX9TyPPSck3N8AZ0SdFJUJ8BxYO",
      "include_colab_link": true
    },
    "kernelspec": {
      "name": "python3",
      "display_name": "Python 3"
    },
    "language_info": {
      "name": "python"
    }
  },
  "cells": [
    {
      "cell_type": "markdown",
      "metadata": {
        "id": "view-in-github",
        "colab_type": "text"
      },
      "source": [
        "<a href=\"https://colab.research.google.com/github/andre-song/DataTwitter-Eleitoral/blob/main/Etapa_4_An%C3%A1lise_de_sentimentos.ipynb\" target=\"_parent\"><img src=\"https://colab.research.google.com/assets/colab-badge.svg\" alt=\"Open In Colab\"/></a>"
      ]
    },
    {
      "cell_type": "code",
      "execution_count": null,
      "metadata": {
        "id": "4p_mKlY4QRNa"
      },
      "outputs": [],
      "source": [
        ""
      ]
    }
  ]
}