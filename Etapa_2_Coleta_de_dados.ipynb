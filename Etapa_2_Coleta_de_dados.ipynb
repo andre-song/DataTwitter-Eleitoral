{
  "nbformat": 4,
  "nbformat_minor": 0,
  "metadata": {
    "colab": {
      "name": "Etapa 2 - Coleta de dados.ipynb",
      "provenance": [],
      "authorship_tag": "ABX9TyNRW+XLkBDdjMKjb1JB1V3j",
      "include_colab_link": true
    },
    "kernelspec": {
      "name": "python3",
      "display_name": "Python 3"
    },
    "language_info": {
      "name": "python"
    }
  },
  "cells": [
    {
      "cell_type": "markdown",
      "metadata": {
        "id": "view-in-github",
        "colab_type": "text"
      },
      "source": [
        "<a href=\"https://colab.research.google.com/github/andre-song/DataTwitter-Eleitoral/blob/main/Etapa_2_Coleta_de_dados.ipynb\" target=\"_parent\"><img src=\"https://colab.research.google.com/assets/colab-badge.svg\" alt=\"Open In Colab\"/></a>"
      ]
    },
    {
      "cell_type": "code",
      "execution_count": 34,
      "metadata": {
        "id": "i6PulYc5PHCs",
        "colab": {
          "base_uri": "https://localhost:8080/"
        },
        "outputId": "c95586da-d6a4-45c4-b7fc-fb8ca1340d13"
      },
      "outputs": [
        {
          "output_type": "stream",
          "name": "stdout",
          "text": [
            "Looking in indexes: https://pypi.org/simple, https://us-python.pkg.dev/colab-wheels/public/simple/\n",
            "Requirement already satisfied: snscrape in /usr/local/lib/python3.7/dist-packages (0.3.4)\n",
            "Requirement already satisfied: lxml in /usr/local/lib/python3.7/dist-packages (from snscrape) (4.2.6)\n",
            "Requirement already satisfied: requests[socks] in /usr/local/lib/python3.7/dist-packages (from snscrape) (2.23.0)\n",
            "Requirement already satisfied: beautifulsoup4 in /usr/local/lib/python3.7/dist-packages (from snscrape) (4.6.3)\n",
            "Requirement already satisfied: certifi>=2017.4.17 in /usr/local/lib/python3.7/dist-packages (from requests[socks]->snscrape) (2022.6.15)\n",
            "Requirement already satisfied: chardet<4,>=3.0.2 in /usr/local/lib/python3.7/dist-packages (from requests[socks]->snscrape) (3.0.4)\n",
            "Requirement already satisfied: urllib3!=1.25.0,!=1.25.1,<1.26,>=1.21.1 in /usr/local/lib/python3.7/dist-packages (from requests[socks]->snscrape) (1.24.3)\n",
            "Requirement already satisfied: idna<3,>=2.5 in /usr/local/lib/python3.7/dist-packages (from requests[socks]->snscrape) (2.10)\n",
            "Requirement already satisfied: PySocks!=1.5.7,>=1.5.6 in /usr/local/lib/python3.7/dist-packages (from requests[socks]->snscrape) (1.7.1)\n"
          ]
        }
      ],
      "source": [
        "pip install snscrape"
      ]
    },
    {
      "cell_type": "markdown",
      "source": [
        "Importando as bibliotecas"
      ],
      "metadata": {
        "id": "LLkz47joCb6U"
      }
    },
    {
      "cell_type": "code",
      "source": [
        "import snscrape.modules.twitter as sntwitter\n",
        "import pandas as pd"
      ],
      "metadata": {
        "id": "DCrl17XgB8_r"
      },
      "execution_count": 64,
      "outputs": []
    },
    {
      "cell_type": "code",
      "source": [
        "maximo_de_tweets = 50"
      ],
      "metadata": {
        "id": "kynv_F_yC9Bw"
      },
      "execution_count": 36,
      "outputs": []
    },
    {
      "cell_type": "markdown",
      "source": [
        "### Lula"
      ],
      "metadata": {
        "id": "LGy1CUIsHxUO"
      }
    },
    {
      "cell_type": "code",
      "source": [
        "lista_de_tweets_lula = []"
      ],
      "metadata": {
        "id": "mq3F2pOlDmLp"
      },
      "execution_count": 37,
      "outputs": []
    },
    {
      "cell_type": "code",
      "source": [
        "for i, tweet in enumerate(sntwitter.TwitterSearchScraper(['lula']).get_items()):\n",
        "  if i > maximo_de_tweets:\n",
        "    break\n",
        "  lista_de_tweets_lula.append((tweet.date, tweet.id, tweet.content))"
      ],
      "metadata": {
        "id": "0d6w3i8-EZ0z"
      },
      "execution_count": 38,
      "outputs": []
    },
    {
      "cell_type": "code",
      "source": [
        "type(lista_de_tweets_lula)"
      ],
      "metadata": {
        "colab": {
          "base_uri": "https://localhost:8080/"
        },
        "id": "llpCnH6dE2QW",
        "outputId": "5e6bb504-f45d-4bf4-fc52-ae70cd906e39"
      },
      "execution_count": 39,
      "outputs": [
        {
          "output_type": "execute_result",
          "data": {
            "text/plain": [
              "list"
            ]
          },
          "metadata": {},
          "execution_count": 39
        }
      ]
    },
    {
      "cell_type": "code",
      "source": [
        "dataframe_tweets_lula = pd.DataFrame(lista_de_tweets_lula, columns=['Data_Hora', 'IdTweet', 'Tweet'])"
      ],
      "metadata": {
        "id": "fiOtXim1G_-J"
      },
      "execution_count": 40,
      "outputs": []
    },
    {
      "cell_type": "code",
      "source": [
        "dataframe_tweets_lula.head ()"
      ],
      "metadata": {
        "colab": {
          "base_uri": "https://localhost:8080/",
          "height": 204
        },
        "id": "NWHrV5HkJqTe",
        "outputId": "35150408-cf66-47e8-ffd3-df2485e68a39"
      },
      "execution_count": 41,
      "outputs": [
        {
          "output_type": "execute_result",
          "data": {
            "text/plain": [
              "                  Data_Hora              IdTweet  \\\n",
              "0 2022-07-30 17:38:04+00:00  1553434768850800641   \n",
              "1 2022-07-30 17:38:04+00:00  1553434768414474240   \n",
              "2 2022-07-30 17:38:04+00:00  1553434767504379905   \n",
              "3 2022-07-30 17:38:03+00:00  1553434762936721409   \n",
              "4 2022-07-30 17:38:03+00:00  1553434762856894464   \n",
              "\n",
              "                                               Tweet  \n",
              "0  @RTaokey @LulaOficial @ricardostuckert Ouçam e...  \n",
              "1               @LulaOficial https://t.co/py9WusQLIl  \n",
              "2  @GuilhermeBoulos Lula LADRÃO....vem pra rua BA...  \n",
              "3  @LulaOficial Ladrão ladrão ladrão ladrão ladrã...  \n",
              "4  LIVE #InterLione, le formazioni ufficiali: ecc...  "
            ],
            "text/html": [
              "\n",
              "  <div id=\"df-2352e7c8-a912-4c00-915e-ab3edc5058f2\">\n",
              "    <div class=\"colab-df-container\">\n",
              "      <div>\n",
              "<style scoped>\n",
              "    .dataframe tbody tr th:only-of-type {\n",
              "        vertical-align: middle;\n",
              "    }\n",
              "\n",
              "    .dataframe tbody tr th {\n",
              "        vertical-align: top;\n",
              "    }\n",
              "\n",
              "    .dataframe thead th {\n",
              "        text-align: right;\n",
              "    }\n",
              "</style>\n",
              "<table border=\"1\" class=\"dataframe\">\n",
              "  <thead>\n",
              "    <tr style=\"text-align: right;\">\n",
              "      <th></th>\n",
              "      <th>Data_Hora</th>\n",
              "      <th>IdTweet</th>\n",
              "      <th>Tweet</th>\n",
              "    </tr>\n",
              "  </thead>\n",
              "  <tbody>\n",
              "    <tr>\n",
              "      <th>0</th>\n",
              "      <td>2022-07-30 17:38:04+00:00</td>\n",
              "      <td>1553434768850800641</td>\n",
              "      <td>@RTaokey @LulaOficial @ricardostuckert Ouçam e...</td>\n",
              "    </tr>\n",
              "    <tr>\n",
              "      <th>1</th>\n",
              "      <td>2022-07-30 17:38:04+00:00</td>\n",
              "      <td>1553434768414474240</td>\n",
              "      <td>@LulaOficial https://t.co/py9WusQLIl</td>\n",
              "    </tr>\n",
              "    <tr>\n",
              "      <th>2</th>\n",
              "      <td>2022-07-30 17:38:04+00:00</td>\n",
              "      <td>1553434767504379905</td>\n",
              "      <td>@GuilhermeBoulos Lula LADRÃO....vem pra rua BA...</td>\n",
              "    </tr>\n",
              "    <tr>\n",
              "      <th>3</th>\n",
              "      <td>2022-07-30 17:38:03+00:00</td>\n",
              "      <td>1553434762936721409</td>\n",
              "      <td>@LulaOficial Ladrão ladrão ladrão ladrão ladrã...</td>\n",
              "    </tr>\n",
              "    <tr>\n",
              "      <th>4</th>\n",
              "      <td>2022-07-30 17:38:03+00:00</td>\n",
              "      <td>1553434762856894464</td>\n",
              "      <td>LIVE #InterLione, le formazioni ufficiali: ecc...</td>\n",
              "    </tr>\n",
              "  </tbody>\n",
              "</table>\n",
              "</div>\n",
              "      <button class=\"colab-df-convert\" onclick=\"convertToInteractive('df-2352e7c8-a912-4c00-915e-ab3edc5058f2')\"\n",
              "              title=\"Convert this dataframe to an interactive table.\"\n",
              "              style=\"display:none;\">\n",
              "        \n",
              "  <svg xmlns=\"http://www.w3.org/2000/svg\" height=\"24px\"viewBox=\"0 0 24 24\"\n",
              "       width=\"24px\">\n",
              "    <path d=\"M0 0h24v24H0V0z\" fill=\"none\"/>\n",
              "    <path d=\"M18.56 5.44l.94 2.06.94-2.06 2.06-.94-2.06-.94-.94-2.06-.94 2.06-2.06.94zm-11 1L8.5 8.5l.94-2.06 2.06-.94-2.06-.94L8.5 2.5l-.94 2.06-2.06.94zm10 10l.94 2.06.94-2.06 2.06-.94-2.06-.94-.94-2.06-.94 2.06-2.06.94z\"/><path d=\"M17.41 7.96l-1.37-1.37c-.4-.4-.92-.59-1.43-.59-.52 0-1.04.2-1.43.59L10.3 9.45l-7.72 7.72c-.78.78-.78 2.05 0 2.83L4 21.41c.39.39.9.59 1.41.59.51 0 1.02-.2 1.41-.59l7.78-7.78 2.81-2.81c.8-.78.8-2.07 0-2.86zM5.41 20L4 18.59l7.72-7.72 1.47 1.35L5.41 20z\"/>\n",
              "  </svg>\n",
              "      </button>\n",
              "      \n",
              "  <style>\n",
              "    .colab-df-container {\n",
              "      display:flex;\n",
              "      flex-wrap:wrap;\n",
              "      gap: 12px;\n",
              "    }\n",
              "\n",
              "    .colab-df-convert {\n",
              "      background-color: #E8F0FE;\n",
              "      border: none;\n",
              "      border-radius: 50%;\n",
              "      cursor: pointer;\n",
              "      display: none;\n",
              "      fill: #1967D2;\n",
              "      height: 32px;\n",
              "      padding: 0 0 0 0;\n",
              "      width: 32px;\n",
              "    }\n",
              "\n",
              "    .colab-df-convert:hover {\n",
              "      background-color: #E2EBFA;\n",
              "      box-shadow: 0px 1px 2px rgba(60, 64, 67, 0.3), 0px 1px 3px 1px rgba(60, 64, 67, 0.15);\n",
              "      fill: #174EA6;\n",
              "    }\n",
              "\n",
              "    [theme=dark] .colab-df-convert {\n",
              "      background-color: #3B4455;\n",
              "      fill: #D2E3FC;\n",
              "    }\n",
              "\n",
              "    [theme=dark] .colab-df-convert:hover {\n",
              "      background-color: #434B5C;\n",
              "      box-shadow: 0px 1px 3px 1px rgba(0, 0, 0, 0.15);\n",
              "      filter: drop-shadow(0px 1px 2px rgba(0, 0, 0, 0.3));\n",
              "      fill: #FFFFFF;\n",
              "    }\n",
              "  </style>\n",
              "\n",
              "      <script>\n",
              "        const buttonEl =\n",
              "          document.querySelector('#df-2352e7c8-a912-4c00-915e-ab3edc5058f2 button.colab-df-convert');\n",
              "        buttonEl.style.display =\n",
              "          google.colab.kernel.accessAllowed ? 'block' : 'none';\n",
              "\n",
              "        async function convertToInteractive(key) {\n",
              "          const element = document.querySelector('#df-2352e7c8-a912-4c00-915e-ab3edc5058f2');\n",
              "          const dataTable =\n",
              "            await google.colab.kernel.invokeFunction('convertToInteractive',\n",
              "                                                     [key], {});\n",
              "          if (!dataTable) return;\n",
              "\n",
              "          const docLinkHtml = 'Like what you see? Visit the ' +\n",
              "            '<a target=\"_blank\" href=https://colab.research.google.com/notebooks/data_table.ipynb>data table notebook</a>'\n",
              "            + ' to learn more about interactive tables.';\n",
              "          element.innerHTML = '';\n",
              "          dataTable['output_type'] = 'display_data';\n",
              "          await google.colab.output.renderOutput(dataTable, element);\n",
              "          const docLink = document.createElement('div');\n",
              "          docLink.innerHTML = docLinkHtml;\n",
              "          element.appendChild(docLink);\n",
              "        }\n",
              "      </script>\n",
              "    </div>\n",
              "  </div>\n",
              "  "
            ]
          },
          "metadata": {},
          "execution_count": 41
        }
      ]
    },
    {
      "cell_type": "code",
      "source": [
        "dataframe_tweets_lula['Candidato'] = 'Lula'"
      ],
      "metadata": {
        "id": "G0QMDbcsKU8F"
      },
      "execution_count": 42,
      "outputs": []
    },
    {
      "cell_type": "code",
      "source": [
        "dataframe_tweets_lula.head ()"
      ],
      "metadata": {
        "colab": {
          "base_uri": "https://localhost:8080/",
          "height": 204
        },
        "id": "d2LGdXb1LMyi",
        "outputId": "a114303d-87dd-4244-fda2-d4cd7468c190"
      },
      "execution_count": 43,
      "outputs": [
        {
          "output_type": "execute_result",
          "data": {
            "text/plain": [
              "                  Data_Hora              IdTweet  \\\n",
              "0 2022-07-30 17:38:04+00:00  1553434768850800641   \n",
              "1 2022-07-30 17:38:04+00:00  1553434768414474240   \n",
              "2 2022-07-30 17:38:04+00:00  1553434767504379905   \n",
              "3 2022-07-30 17:38:03+00:00  1553434762936721409   \n",
              "4 2022-07-30 17:38:03+00:00  1553434762856894464   \n",
              "\n",
              "                                               Tweet Candidato  \n",
              "0  @RTaokey @LulaOficial @ricardostuckert Ouçam e...      Lula  \n",
              "1               @LulaOficial https://t.co/py9WusQLIl      Lula  \n",
              "2  @GuilhermeBoulos Lula LADRÃO....vem pra rua BA...      Lula  \n",
              "3  @LulaOficial Ladrão ladrão ladrão ladrão ladrã...      Lula  \n",
              "4  LIVE #InterLione, le formazioni ufficiali: ecc...      Lula  "
            ],
            "text/html": [
              "\n",
              "  <div id=\"df-8e8dff29-5cf5-4ec5-9cc2-7764e9597ead\">\n",
              "    <div class=\"colab-df-container\">\n",
              "      <div>\n",
              "<style scoped>\n",
              "    .dataframe tbody tr th:only-of-type {\n",
              "        vertical-align: middle;\n",
              "    }\n",
              "\n",
              "    .dataframe tbody tr th {\n",
              "        vertical-align: top;\n",
              "    }\n",
              "\n",
              "    .dataframe thead th {\n",
              "        text-align: right;\n",
              "    }\n",
              "</style>\n",
              "<table border=\"1\" class=\"dataframe\">\n",
              "  <thead>\n",
              "    <tr style=\"text-align: right;\">\n",
              "      <th></th>\n",
              "      <th>Data_Hora</th>\n",
              "      <th>IdTweet</th>\n",
              "      <th>Tweet</th>\n",
              "      <th>Candidato</th>\n",
              "    </tr>\n",
              "  </thead>\n",
              "  <tbody>\n",
              "    <tr>\n",
              "      <th>0</th>\n",
              "      <td>2022-07-30 17:38:04+00:00</td>\n",
              "      <td>1553434768850800641</td>\n",
              "      <td>@RTaokey @LulaOficial @ricardostuckert Ouçam e...</td>\n",
              "      <td>Lula</td>\n",
              "    </tr>\n",
              "    <tr>\n",
              "      <th>1</th>\n",
              "      <td>2022-07-30 17:38:04+00:00</td>\n",
              "      <td>1553434768414474240</td>\n",
              "      <td>@LulaOficial https://t.co/py9WusQLIl</td>\n",
              "      <td>Lula</td>\n",
              "    </tr>\n",
              "    <tr>\n",
              "      <th>2</th>\n",
              "      <td>2022-07-30 17:38:04+00:00</td>\n",
              "      <td>1553434767504379905</td>\n",
              "      <td>@GuilhermeBoulos Lula LADRÃO....vem pra rua BA...</td>\n",
              "      <td>Lula</td>\n",
              "    </tr>\n",
              "    <tr>\n",
              "      <th>3</th>\n",
              "      <td>2022-07-30 17:38:03+00:00</td>\n",
              "      <td>1553434762936721409</td>\n",
              "      <td>@LulaOficial Ladrão ladrão ladrão ladrão ladrã...</td>\n",
              "      <td>Lula</td>\n",
              "    </tr>\n",
              "    <tr>\n",
              "      <th>4</th>\n",
              "      <td>2022-07-30 17:38:03+00:00</td>\n",
              "      <td>1553434762856894464</td>\n",
              "      <td>LIVE #InterLione, le formazioni ufficiali: ecc...</td>\n",
              "      <td>Lula</td>\n",
              "    </tr>\n",
              "  </tbody>\n",
              "</table>\n",
              "</div>\n",
              "      <button class=\"colab-df-convert\" onclick=\"convertToInteractive('df-8e8dff29-5cf5-4ec5-9cc2-7764e9597ead')\"\n",
              "              title=\"Convert this dataframe to an interactive table.\"\n",
              "              style=\"display:none;\">\n",
              "        \n",
              "  <svg xmlns=\"http://www.w3.org/2000/svg\" height=\"24px\"viewBox=\"0 0 24 24\"\n",
              "       width=\"24px\">\n",
              "    <path d=\"M0 0h24v24H0V0z\" fill=\"none\"/>\n",
              "    <path d=\"M18.56 5.44l.94 2.06.94-2.06 2.06-.94-2.06-.94-.94-2.06-.94 2.06-2.06.94zm-11 1L8.5 8.5l.94-2.06 2.06-.94-2.06-.94L8.5 2.5l-.94 2.06-2.06.94zm10 10l.94 2.06.94-2.06 2.06-.94-2.06-.94-.94-2.06-.94 2.06-2.06.94z\"/><path d=\"M17.41 7.96l-1.37-1.37c-.4-.4-.92-.59-1.43-.59-.52 0-1.04.2-1.43.59L10.3 9.45l-7.72 7.72c-.78.78-.78 2.05 0 2.83L4 21.41c.39.39.9.59 1.41.59.51 0 1.02-.2 1.41-.59l7.78-7.78 2.81-2.81c.8-.78.8-2.07 0-2.86zM5.41 20L4 18.59l7.72-7.72 1.47 1.35L5.41 20z\"/>\n",
              "  </svg>\n",
              "      </button>\n",
              "      \n",
              "  <style>\n",
              "    .colab-df-container {\n",
              "      display:flex;\n",
              "      flex-wrap:wrap;\n",
              "      gap: 12px;\n",
              "    }\n",
              "\n",
              "    .colab-df-convert {\n",
              "      background-color: #E8F0FE;\n",
              "      border: none;\n",
              "      border-radius: 50%;\n",
              "      cursor: pointer;\n",
              "      display: none;\n",
              "      fill: #1967D2;\n",
              "      height: 32px;\n",
              "      padding: 0 0 0 0;\n",
              "      width: 32px;\n",
              "    }\n",
              "\n",
              "    .colab-df-convert:hover {\n",
              "      background-color: #E2EBFA;\n",
              "      box-shadow: 0px 1px 2px rgba(60, 64, 67, 0.3), 0px 1px 3px 1px rgba(60, 64, 67, 0.15);\n",
              "      fill: #174EA6;\n",
              "    }\n",
              "\n",
              "    [theme=dark] .colab-df-convert {\n",
              "      background-color: #3B4455;\n",
              "      fill: #D2E3FC;\n",
              "    }\n",
              "\n",
              "    [theme=dark] .colab-df-convert:hover {\n",
              "      background-color: #434B5C;\n",
              "      box-shadow: 0px 1px 3px 1px rgba(0, 0, 0, 0.15);\n",
              "      filter: drop-shadow(0px 1px 2px rgba(0, 0, 0, 0.3));\n",
              "      fill: #FFFFFF;\n",
              "    }\n",
              "  </style>\n",
              "\n",
              "      <script>\n",
              "        const buttonEl =\n",
              "          document.querySelector('#df-8e8dff29-5cf5-4ec5-9cc2-7764e9597ead button.colab-df-convert');\n",
              "        buttonEl.style.display =\n",
              "          google.colab.kernel.accessAllowed ? 'block' : 'none';\n",
              "\n",
              "        async function convertToInteractive(key) {\n",
              "          const element = document.querySelector('#df-8e8dff29-5cf5-4ec5-9cc2-7764e9597ead');\n",
              "          const dataTable =\n",
              "            await google.colab.kernel.invokeFunction('convertToInteractive',\n",
              "                                                     [key], {});\n",
              "          if (!dataTable) return;\n",
              "\n",
              "          const docLinkHtml = 'Like what you see? Visit the ' +\n",
              "            '<a target=\"_blank\" href=https://colab.research.google.com/notebooks/data_table.ipynb>data table notebook</a>'\n",
              "            + ' to learn more about interactive tables.';\n",
              "          element.innerHTML = '';\n",
              "          dataTable['output_type'] = 'display_data';\n",
              "          await google.colab.output.renderOutput(dataTable, element);\n",
              "          const docLink = document.createElement('div');\n",
              "          docLink.innerHTML = docLinkHtml;\n",
              "          element.appendChild(docLink);\n",
              "        }\n",
              "      </script>\n",
              "    </div>\n",
              "  </div>\n",
              "  "
            ]
          },
          "metadata": {},
          "execution_count": 43
        }
      ]
    },
    {
      "cell_type": "markdown",
      "source": [
        "### Bolsonaro"
      ],
      "metadata": {
        "id": "b4gCHOpjLmG_"
      }
    },
    {
      "cell_type": "code",
      "source": [
        "lista_de_tweets_bolsonaro = []"
      ],
      "metadata": {
        "id": "DSSjWQXgLgy5"
      },
      "execution_count": 44,
      "outputs": []
    },
    {
      "cell_type": "code",
      "source": [
        "for i, tweet in enumerate(sntwitter.TwitterSearchScraper(['bolsonaro']).get_items()):\n",
        "  if i > maximo_de_tweets:\n",
        "    break\n",
        "  lista_de_tweets_bolsonaro.append((tweet.date, tweet.id, tweet.content))"
      ],
      "metadata": {
        "id": "IaQ8_hK5Lu8H"
      },
      "execution_count": 46,
      "outputs": []
    },
    {
      "cell_type": "code",
      "source": [
        "dataframe_tweets_bolsonaro = pd.DataFrame(lista_de_tweets_bolsonaro, columns=['Data_Hora', 'IdTweet', 'Tweet'])"
      ],
      "metadata": {
        "id": "k3op2fNcMOdo"
      },
      "execution_count": 49,
      "outputs": []
    },
    {
      "cell_type": "code",
      "source": [
        "dataframe_tweets_bolsonaro['Candidato'] = 'Bolsonaro'"
      ],
      "metadata": {
        "id": "rKbefEQGOSln"
      },
      "execution_count": 50,
      "outputs": []
    },
    {
      "cell_type": "code",
      "source": [
        "dataframe_tweets_bolsonaro.head ()"
      ],
      "metadata": {
        "colab": {
          "base_uri": "https://localhost:8080/",
          "height": 204
        },
        "id": "qZCz5X7EOc_a",
        "outputId": "4b543e6c-e93e-4167-b4f8-c600eb17099a"
      },
      "execution_count": 51,
      "outputs": [
        {
          "output_type": "execute_result",
          "data": {
            "text/plain": [
              "                  Data_Hora              IdTweet  \\\n",
              "0 2022-07-30 17:38:56+00:00  1553434985822134276   \n",
              "1 2022-07-30 17:38:54+00:00  1553434976368074753   \n",
              "2 2022-07-30 17:38:53+00:00  1553434973947969540   \n",
              "3 2022-07-30 17:38:53+00:00  1553434971339210757   \n",
              "4 2022-07-30 17:38:52+00:00  1553434967136509952   \n",
              "\n",
              "                                               Tweet  Candidato  \n",
              "0               Bolsonaro 22 https://t.co/7LWEYlzIz0  Bolsonaro  \n",
              "1  @LulaOficial Movimento que só enriquece nas co...  Bolsonaro  \n",
              "2  Xandão vai começar a perdoar as dívidas dos es...  Bolsonaro  \n",
              "3  O grito tucano do Ipiranga para fugir de Bolso...  Bolsonaro  \n",
              "4  @LulaOficial Governo q se preza tem transparên...  Bolsonaro  "
            ],
            "text/html": [
              "\n",
              "  <div id=\"df-6d866080-4455-417c-a3cb-ad37de6ac683\">\n",
              "    <div class=\"colab-df-container\">\n",
              "      <div>\n",
              "<style scoped>\n",
              "    .dataframe tbody tr th:only-of-type {\n",
              "        vertical-align: middle;\n",
              "    }\n",
              "\n",
              "    .dataframe tbody tr th {\n",
              "        vertical-align: top;\n",
              "    }\n",
              "\n",
              "    .dataframe thead th {\n",
              "        text-align: right;\n",
              "    }\n",
              "</style>\n",
              "<table border=\"1\" class=\"dataframe\">\n",
              "  <thead>\n",
              "    <tr style=\"text-align: right;\">\n",
              "      <th></th>\n",
              "      <th>Data_Hora</th>\n",
              "      <th>IdTweet</th>\n",
              "      <th>Tweet</th>\n",
              "      <th>Candidato</th>\n",
              "    </tr>\n",
              "  </thead>\n",
              "  <tbody>\n",
              "    <tr>\n",
              "      <th>0</th>\n",
              "      <td>2022-07-30 17:38:56+00:00</td>\n",
              "      <td>1553434985822134276</td>\n",
              "      <td>Bolsonaro 22 https://t.co/7LWEYlzIz0</td>\n",
              "      <td>Bolsonaro</td>\n",
              "    </tr>\n",
              "    <tr>\n",
              "      <th>1</th>\n",
              "      <td>2022-07-30 17:38:54+00:00</td>\n",
              "      <td>1553434976368074753</td>\n",
              "      <td>@LulaOficial Movimento que só enriquece nas co...</td>\n",
              "      <td>Bolsonaro</td>\n",
              "    </tr>\n",
              "    <tr>\n",
              "      <th>2</th>\n",
              "      <td>2022-07-30 17:38:53+00:00</td>\n",
              "      <td>1553434973947969540</td>\n",
              "      <td>Xandão vai começar a perdoar as dívidas dos es...</td>\n",
              "      <td>Bolsonaro</td>\n",
              "    </tr>\n",
              "    <tr>\n",
              "      <th>3</th>\n",
              "      <td>2022-07-30 17:38:53+00:00</td>\n",
              "      <td>1553434971339210757</td>\n",
              "      <td>O grito tucano do Ipiranga para fugir de Bolso...</td>\n",
              "      <td>Bolsonaro</td>\n",
              "    </tr>\n",
              "    <tr>\n",
              "      <th>4</th>\n",
              "      <td>2022-07-30 17:38:52+00:00</td>\n",
              "      <td>1553434967136509952</td>\n",
              "      <td>@LulaOficial Governo q se preza tem transparên...</td>\n",
              "      <td>Bolsonaro</td>\n",
              "    </tr>\n",
              "  </tbody>\n",
              "</table>\n",
              "</div>\n",
              "      <button class=\"colab-df-convert\" onclick=\"convertToInteractive('df-6d866080-4455-417c-a3cb-ad37de6ac683')\"\n",
              "              title=\"Convert this dataframe to an interactive table.\"\n",
              "              style=\"display:none;\">\n",
              "        \n",
              "  <svg xmlns=\"http://www.w3.org/2000/svg\" height=\"24px\"viewBox=\"0 0 24 24\"\n",
              "       width=\"24px\">\n",
              "    <path d=\"M0 0h24v24H0V0z\" fill=\"none\"/>\n",
              "    <path d=\"M18.56 5.44l.94 2.06.94-2.06 2.06-.94-2.06-.94-.94-2.06-.94 2.06-2.06.94zm-11 1L8.5 8.5l.94-2.06 2.06-.94-2.06-.94L8.5 2.5l-.94 2.06-2.06.94zm10 10l.94 2.06.94-2.06 2.06-.94-2.06-.94-.94-2.06-.94 2.06-2.06.94z\"/><path d=\"M17.41 7.96l-1.37-1.37c-.4-.4-.92-.59-1.43-.59-.52 0-1.04.2-1.43.59L10.3 9.45l-7.72 7.72c-.78.78-.78 2.05 0 2.83L4 21.41c.39.39.9.59 1.41.59.51 0 1.02-.2 1.41-.59l7.78-7.78 2.81-2.81c.8-.78.8-2.07 0-2.86zM5.41 20L4 18.59l7.72-7.72 1.47 1.35L5.41 20z\"/>\n",
              "  </svg>\n",
              "      </button>\n",
              "      \n",
              "  <style>\n",
              "    .colab-df-container {\n",
              "      display:flex;\n",
              "      flex-wrap:wrap;\n",
              "      gap: 12px;\n",
              "    }\n",
              "\n",
              "    .colab-df-convert {\n",
              "      background-color: #E8F0FE;\n",
              "      border: none;\n",
              "      border-radius: 50%;\n",
              "      cursor: pointer;\n",
              "      display: none;\n",
              "      fill: #1967D2;\n",
              "      height: 32px;\n",
              "      padding: 0 0 0 0;\n",
              "      width: 32px;\n",
              "    }\n",
              "\n",
              "    .colab-df-convert:hover {\n",
              "      background-color: #E2EBFA;\n",
              "      box-shadow: 0px 1px 2px rgba(60, 64, 67, 0.3), 0px 1px 3px 1px rgba(60, 64, 67, 0.15);\n",
              "      fill: #174EA6;\n",
              "    }\n",
              "\n",
              "    [theme=dark] .colab-df-convert {\n",
              "      background-color: #3B4455;\n",
              "      fill: #D2E3FC;\n",
              "    }\n",
              "\n",
              "    [theme=dark] .colab-df-convert:hover {\n",
              "      background-color: #434B5C;\n",
              "      box-shadow: 0px 1px 3px 1px rgba(0, 0, 0, 0.15);\n",
              "      filter: drop-shadow(0px 1px 2px rgba(0, 0, 0, 0.3));\n",
              "      fill: #FFFFFF;\n",
              "    }\n",
              "  </style>\n",
              "\n",
              "      <script>\n",
              "        const buttonEl =\n",
              "          document.querySelector('#df-6d866080-4455-417c-a3cb-ad37de6ac683 button.colab-df-convert');\n",
              "        buttonEl.style.display =\n",
              "          google.colab.kernel.accessAllowed ? 'block' : 'none';\n",
              "\n",
              "        async function convertToInteractive(key) {\n",
              "          const element = document.querySelector('#df-6d866080-4455-417c-a3cb-ad37de6ac683');\n",
              "          const dataTable =\n",
              "            await google.colab.kernel.invokeFunction('convertToInteractive',\n",
              "                                                     [key], {});\n",
              "          if (!dataTable) return;\n",
              "\n",
              "          const docLinkHtml = 'Like what you see? Visit the ' +\n",
              "            '<a target=\"_blank\" href=https://colab.research.google.com/notebooks/data_table.ipynb>data table notebook</a>'\n",
              "            + ' to learn more about interactive tables.';\n",
              "          element.innerHTML = '';\n",
              "          dataTable['output_type'] = 'display_data';\n",
              "          await google.colab.output.renderOutput(dataTable, element);\n",
              "          const docLink = document.createElement('div');\n",
              "          docLink.innerHTML = docLinkHtml;\n",
              "          element.appendChild(docLink);\n",
              "        }\n",
              "      </script>\n",
              "    </div>\n",
              "  </div>\n",
              "  "
            ]
          },
          "metadata": {},
          "execution_count": 51
        }
      ]
    },
    {
      "cell_type": "markdown",
      "source": [
        "### Ciro Gomes"
      ],
      "metadata": {
        "id": "5DuGff6_Ovh7"
      }
    },
    {
      "cell_type": "code",
      "source": [
        "lista_de_tweets_ciro = []"
      ],
      "metadata": {
        "id": "cO3ButVsOhvx"
      },
      "execution_count": 52,
      "outputs": []
    },
    {
      "cell_type": "code",
      "source": [
        "for i, tweet in enumerate(sntwitter.TwitterSearchScraper(['ciro']).get_items()):\n",
        "  if i > maximo_de_tweets:\n",
        "    break\n",
        "  lista_de_tweets_ciro.append((tweet.date, tweet.id, tweet.content))"
      ],
      "metadata": {
        "id": "GnRdE0ScO0l5"
      },
      "execution_count": 53,
      "outputs": []
    },
    {
      "cell_type": "code",
      "source": [
        "dataframe_tweets_ciro = pd.DataFrame(lista_de_tweets_ciro, columns=['Data_Hora', 'IdTweet', 'Tweet'])"
      ],
      "metadata": {
        "id": "K4Ei5t29O6zX"
      },
      "execution_count": 54,
      "outputs": []
    },
    {
      "cell_type": "code",
      "source": [
        "dataframe_tweets_ciro['Candidato'] = 'Ciro'"
      ],
      "metadata": {
        "id": "U_lpdDBgPDBc"
      },
      "execution_count": 55,
      "outputs": []
    },
    {
      "cell_type": "code",
      "source": [
        "dataframe_tweets_ciro.head ()"
      ],
      "metadata": {
        "colab": {
          "base_uri": "https://localhost:8080/",
          "height": 204
        },
        "id": "7m-7Me4JPIcC",
        "outputId": "809d5cd6-2b1a-4df0-e14b-056e99148893"
      },
      "execution_count": 56,
      "outputs": [
        {
          "output_type": "execute_result",
          "data": {
            "text/plain": [
              "                  Data_Hora              IdTweet  \\\n",
              "0 2022-07-30 17:50:57+00:00  1553438010527682560   \n",
              "1 2022-07-30 17:50:55+00:00  1553437999190315008   \n",
              "2 2022-07-30 17:50:50+00:00  1553437981314351104   \n",
              "3 2022-07-30 17:50:43+00:00  1553437952260427776   \n",
              "4 2022-07-30 17:50:38+00:00  1553437930550693889   \n",
              "\n",
              "                                               Tweet Candidato  \n",
              "0  @EltonE9 @DiogoPND12 @titobah @cirogomes Não s...      Ciro  \n",
              "1  @jesustorresnoti @CarlosTorresF_ @Jesus_Manuel...      Ciro  \n",
              "2  @Caio98190947 @LulaOficial nem na onda fascist...      Ciro  \n",
              "3  É muito fácil virar voto pro Ciro, fiquem em m...      Ciro  \n",
              "4  @desmentindobozo @ciro_nogueira Parabéns pela ...      Ciro  "
            ],
            "text/html": [
              "\n",
              "  <div id=\"df-6fdeed3f-3920-49e4-9e82-9e4a6d4915c3\">\n",
              "    <div class=\"colab-df-container\">\n",
              "      <div>\n",
              "<style scoped>\n",
              "    .dataframe tbody tr th:only-of-type {\n",
              "        vertical-align: middle;\n",
              "    }\n",
              "\n",
              "    .dataframe tbody tr th {\n",
              "        vertical-align: top;\n",
              "    }\n",
              "\n",
              "    .dataframe thead th {\n",
              "        text-align: right;\n",
              "    }\n",
              "</style>\n",
              "<table border=\"1\" class=\"dataframe\">\n",
              "  <thead>\n",
              "    <tr style=\"text-align: right;\">\n",
              "      <th></th>\n",
              "      <th>Data_Hora</th>\n",
              "      <th>IdTweet</th>\n",
              "      <th>Tweet</th>\n",
              "      <th>Candidato</th>\n",
              "    </tr>\n",
              "  </thead>\n",
              "  <tbody>\n",
              "    <tr>\n",
              "      <th>0</th>\n",
              "      <td>2022-07-30 17:50:57+00:00</td>\n",
              "      <td>1553438010527682560</td>\n",
              "      <td>@EltonE9 @DiogoPND12 @titobah @cirogomes Não s...</td>\n",
              "      <td>Ciro</td>\n",
              "    </tr>\n",
              "    <tr>\n",
              "      <th>1</th>\n",
              "      <td>2022-07-30 17:50:55+00:00</td>\n",
              "      <td>1553437999190315008</td>\n",
              "      <td>@jesustorresnoti @CarlosTorresF_ @Jesus_Manuel...</td>\n",
              "      <td>Ciro</td>\n",
              "    </tr>\n",
              "    <tr>\n",
              "      <th>2</th>\n",
              "      <td>2022-07-30 17:50:50+00:00</td>\n",
              "      <td>1553437981314351104</td>\n",
              "      <td>@Caio98190947 @LulaOficial nem na onda fascist...</td>\n",
              "      <td>Ciro</td>\n",
              "    </tr>\n",
              "    <tr>\n",
              "      <th>3</th>\n",
              "      <td>2022-07-30 17:50:43+00:00</td>\n",
              "      <td>1553437952260427776</td>\n",
              "      <td>É muito fácil virar voto pro Ciro, fiquem em m...</td>\n",
              "      <td>Ciro</td>\n",
              "    </tr>\n",
              "    <tr>\n",
              "      <th>4</th>\n",
              "      <td>2022-07-30 17:50:38+00:00</td>\n",
              "      <td>1553437930550693889</td>\n",
              "      <td>@desmentindobozo @ciro_nogueira Parabéns pela ...</td>\n",
              "      <td>Ciro</td>\n",
              "    </tr>\n",
              "  </tbody>\n",
              "</table>\n",
              "</div>\n",
              "      <button class=\"colab-df-convert\" onclick=\"convertToInteractive('df-6fdeed3f-3920-49e4-9e82-9e4a6d4915c3')\"\n",
              "              title=\"Convert this dataframe to an interactive table.\"\n",
              "              style=\"display:none;\">\n",
              "        \n",
              "  <svg xmlns=\"http://www.w3.org/2000/svg\" height=\"24px\"viewBox=\"0 0 24 24\"\n",
              "       width=\"24px\">\n",
              "    <path d=\"M0 0h24v24H0V0z\" fill=\"none\"/>\n",
              "    <path d=\"M18.56 5.44l.94 2.06.94-2.06 2.06-.94-2.06-.94-.94-2.06-.94 2.06-2.06.94zm-11 1L8.5 8.5l.94-2.06 2.06-.94-2.06-.94L8.5 2.5l-.94 2.06-2.06.94zm10 10l.94 2.06.94-2.06 2.06-.94-2.06-.94-.94-2.06-.94 2.06-2.06.94z\"/><path d=\"M17.41 7.96l-1.37-1.37c-.4-.4-.92-.59-1.43-.59-.52 0-1.04.2-1.43.59L10.3 9.45l-7.72 7.72c-.78.78-.78 2.05 0 2.83L4 21.41c.39.39.9.59 1.41.59.51 0 1.02-.2 1.41-.59l7.78-7.78 2.81-2.81c.8-.78.8-2.07 0-2.86zM5.41 20L4 18.59l7.72-7.72 1.47 1.35L5.41 20z\"/>\n",
              "  </svg>\n",
              "      </button>\n",
              "      \n",
              "  <style>\n",
              "    .colab-df-container {\n",
              "      display:flex;\n",
              "      flex-wrap:wrap;\n",
              "      gap: 12px;\n",
              "    }\n",
              "\n",
              "    .colab-df-convert {\n",
              "      background-color: #E8F0FE;\n",
              "      border: none;\n",
              "      border-radius: 50%;\n",
              "      cursor: pointer;\n",
              "      display: none;\n",
              "      fill: #1967D2;\n",
              "      height: 32px;\n",
              "      padding: 0 0 0 0;\n",
              "      width: 32px;\n",
              "    }\n",
              "\n",
              "    .colab-df-convert:hover {\n",
              "      background-color: #E2EBFA;\n",
              "      box-shadow: 0px 1px 2px rgba(60, 64, 67, 0.3), 0px 1px 3px 1px rgba(60, 64, 67, 0.15);\n",
              "      fill: #174EA6;\n",
              "    }\n",
              "\n",
              "    [theme=dark] .colab-df-convert {\n",
              "      background-color: #3B4455;\n",
              "      fill: #D2E3FC;\n",
              "    }\n",
              "\n",
              "    [theme=dark] .colab-df-convert:hover {\n",
              "      background-color: #434B5C;\n",
              "      box-shadow: 0px 1px 3px 1px rgba(0, 0, 0, 0.15);\n",
              "      filter: drop-shadow(0px 1px 2px rgba(0, 0, 0, 0.3));\n",
              "      fill: #FFFFFF;\n",
              "    }\n",
              "  </style>\n",
              "\n",
              "      <script>\n",
              "        const buttonEl =\n",
              "          document.querySelector('#df-6fdeed3f-3920-49e4-9e82-9e4a6d4915c3 button.colab-df-convert');\n",
              "        buttonEl.style.display =\n",
              "          google.colab.kernel.accessAllowed ? 'block' : 'none';\n",
              "\n",
              "        async function convertToInteractive(key) {\n",
              "          const element = document.querySelector('#df-6fdeed3f-3920-49e4-9e82-9e4a6d4915c3');\n",
              "          const dataTable =\n",
              "            await google.colab.kernel.invokeFunction('convertToInteractive',\n",
              "                                                     [key], {});\n",
              "          if (!dataTable) return;\n",
              "\n",
              "          const docLinkHtml = 'Like what you see? Visit the ' +\n",
              "            '<a target=\"_blank\" href=https://colab.research.google.com/notebooks/data_table.ipynb>data table notebook</a>'\n",
              "            + ' to learn more about interactive tables.';\n",
              "          element.innerHTML = '';\n",
              "          dataTable['output_type'] = 'display_data';\n",
              "          await google.colab.output.renderOutput(dataTable, element);\n",
              "          const docLink = document.createElement('div');\n",
              "          docLink.innerHTML = docLinkHtml;\n",
              "          element.appendChild(docLink);\n",
              "        }\n",
              "      </script>\n",
              "    </div>\n",
              "  </div>\n",
              "  "
            ]
          },
          "metadata": {},
          "execution_count": 56
        }
      ]
    },
    {
      "cell_type": "code",
      "source": [
        "dataframe_final = pd.concat([dataframe_tweets_lula, dataframe_tweets_bolsonaro, dataframe_tweets_ciro], axis = 0)"
      ],
      "metadata": {
        "id": "6cCEwtgCPK2o"
      },
      "execution_count": 59,
      "outputs": []
    },
    {
      "cell_type": "code",
      "source": [
        "dataframe_final['Candidato'].unique()\n",
        "#.unique() para visualizar se as listas foram unificadas"
      ],
      "metadata": {
        "colab": {
          "base_uri": "https://localhost:8080/"
        },
        "id": "JRO9ddL2QXsf",
        "outputId": "2eb50af4-9109-4a11-e681-442ce5518d98"
      },
      "execution_count": 63,
      "outputs": [
        {
          "output_type": "execute_result",
          "data": {
            "text/plain": [
              "array(['Lula', 'Bolsonaro', 'Ciro'], dtype=object)"
            ]
          },
          "metadata": {},
          "execution_count": 63
        }
      ]
    },
    {
      "cell_type": "code",
      "source": [
        "dataframe_final.to_csv('dataframe_final_candidatos.csv', sep=',', index=False)\n",
        "#sep=',' para separar por vírgulas e deixar mais organizado\n",
        "#index=False para fazer a continuação da contagem quando juntarem as listas"
      ],
      "metadata": {
        "id": "a2275ZPVQ2UF"
      },
      "execution_count": 62,
      "outputs": []
    },
    {
      "cell_type": "code",
      "source": [
        ""
      ],
      "metadata": {
        "id": "Xnu9eWG1Rldy"
      },
      "execution_count": null,
      "outputs": []
    }
  ]
}